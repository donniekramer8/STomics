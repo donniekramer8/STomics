{
 "cells": [
  {
   "cell_type": "code",
   "execution_count": 39,
   "metadata": {},
   "outputs": [],
   "source": [
    "from tifffile import imread\n",
    "import os\n",
    "from PIL import Image\n",
    "import numpy as np"
   ]
  },
  {
   "cell_type": "code",
   "execution_count": 12,
   "metadata": {},
   "outputs": [],
   "source": [
    "ndpi_pth = '/home/donald/Desktop/Andre_expansion/data/Skin Lymphedema/L0001_diseased'\n",
    "ndpis = [os.path.join(ndpi_pth,f) for f in os.listdir(ndpi_pth) if f.endswith('.ndpi') and len(f)==len('L0001_diseased_0013.ndpi')]"
   ]
  },
  {
   "cell_type": "code",
   "execution_count": 15,
   "metadata": {},
   "outputs": [
    {
     "data": {
      "text/plain": [
       "['/home/donald/Desktop/Andre_expansion/data/Skin Lymphedema/L0001_diseased/L0001_diseased_0001.ndpi',\n",
       " '/home/donald/Desktop/Andre_expansion/data/Skin Lymphedema/L0001_diseased/L0001_diseased_0004.ndpi',\n",
       " '/home/donald/Desktop/Andre_expansion/data/Skin Lymphedema/L0001_diseased/L0001_diseased_0007.ndpi',\n",
       " '/home/donald/Desktop/Andre_expansion/data/Skin Lymphedema/L0001_diseased/L0001_diseased_0010.ndpi',\n",
       " '/home/donald/Desktop/Andre_expansion/data/Skin Lymphedema/L0001_diseased/L0001_diseased_0013.ndpi',\n",
       " '/home/donald/Desktop/Andre_expansion/data/Skin Lymphedema/L0001_diseased/L0001_diseased_0016.ndpi',\n",
       " '/home/donald/Desktop/Andre_expansion/data/Skin Lymphedema/L0001_diseased/L0001_diseased_0019.ndpi']"
      ]
     },
     "execution_count": 15,
     "metadata": {},
     "output_type": "execute_result"
    }
   ],
   "source": [
    "ndpis[0:7]"
   ]
  },
  {
   "cell_type": "code",
   "execution_count": 23,
   "metadata": {},
   "outputs": [],
   "source": [
    "outpth = '/home/donald/Desktop/Andre_expansion/students/Donald/data/Skin_visium/lymph_spacerangerL1/binned_outputs/square_016um/iStar_data/L0001_diseased_he_jpgs'\n",
    "\n",
    "for f in ndpis:\n",
    "    nm = os.path.basename(f)[:-5]\n",
    "    nm = \"\".join([nm,'.jpg'])\n",
    "    outnm = os.path.join(outpth,nm)\n",
    "\n",
    "    if not os.path.exists(outnm):\n",
    "        im = imread(f)\n",
    "        imout = Image.fromarray(im)\n",
    "        imout.save(outnm) "
   ]
  },
  {
   "cell_type": "code",
   "execution_count": null,
   "metadata": {},
   "outputs": [],
   "source": [
    "# make sure to run rescale.py and preprocess.py and make the .txt file with the pix res"
   ]
  },
  {
   "cell_type": "code",
   "execution_count": 30,
   "metadata": {},
   "outputs": [],
   "source": [
    "# TA's that andre make\n",
    "pthTA = '/home/donald/Desktop/Andre_expansion/data/Skin Lymphedema/L0001_diseased/1x_python/TA'\n",
    "\n",
    "TAs = [os.path.join(pthTA,f) for f in os.listdir(pthTA) if f.endswith('.tif') and len(f)==len('L0001_diseased_0013.tif')]"
   ]
  },
  {
   "cell_type": "code",
   "execution_count": 31,
   "metadata": {},
   "outputs": [
    {
     "data": {
      "text/plain": [
       "['/home/donald/Desktop/Andre_expansion/data/Skin Lymphedema/L0001_diseased/1x_python/TA/L0001_diseased_0001.tif',\n",
       " '/home/donald/Desktop/Andre_expansion/data/Skin Lymphedema/L0001_diseased/1x_python/TA/L0001_diseased_0004.tif',\n",
       " '/home/donald/Desktop/Andre_expansion/data/Skin Lymphedema/L0001_diseased/1x_python/TA/L0001_diseased_0007.tif',\n",
       " '/home/donald/Desktop/Andre_expansion/data/Skin Lymphedema/L0001_diseased/1x_python/TA/L0001_diseased_0010.tif',\n",
       " '/home/donald/Desktop/Andre_expansion/data/Skin Lymphedema/L0001_diseased/1x_python/TA/L0001_diseased_0013.tif',\n",
       " '/home/donald/Desktop/Andre_expansion/data/Skin Lymphedema/L0001_diseased/1x_python/TA/L0001_diseased_0016.tif',\n",
       " '/home/donald/Desktop/Andre_expansion/data/Skin Lymphedema/L0001_diseased/1x_python/TA/L0001_diseased_0019.tif']"
      ]
     },
     "execution_count": 31,
     "metadata": {},
     "output_type": "execute_result"
    }
   ],
   "source": [
    "TAs[:7]"
   ]
  },
  {
   "cell_type": "code",
   "execution_count": 56,
   "metadata": {},
   "outputs": [],
   "source": [
    "import cv2\n",
    "\n",
    "outpth = '/home/donald/Desktop/Andre_expansion/students/Donald/data/Skin_visium/lymph_spacerangerL1/binned_outputs/square_016um/iStar_data/L0001_diseased_he_jpgs/TA_1x'\n",
    "if not os.path.exists(outpth):\n",
    "    os.mkdir(outpth)\n",
    "\n",
    "for f in TAs:\n",
    "    nm = os.path.basename(f)[:-4]\n",
    "    nm = \"\".join([nm, '.jpg'])\n",
    "    outnm = os.path.join(outpth, nm)\n",
    "\n",
    "    #if not os.path.exists(outnm):\n",
    "    with Image.open(f) as im:\n",
    "        # Convert to numpy array\n",
    "        img_array = np.array(im)\n",
    "        # Convert to binary (0s and 1s)\n",
    "        binary_array = (img_array >= 1).astype(np.uint8)\n",
    "        # Save using cv2\n",
    "        cv2.imwrite(outnm, binary_array * 1, [cv2.IMWRITE_JPEG_QUALITY, 100])"
   ]
  },
  {
   "cell_type": "code",
   "execution_count": 57,
   "metadata": {},
   "outputs": [
    {
     "data": {
      "text/plain": [
       "array([0, 1], dtype=uint8)"
      ]
     },
     "execution_count": 57,
     "metadata": {},
     "output_type": "execute_result"
    }
   ],
   "source": [
    "np.unique(binary_im)"
   ]
  },
  {
   "cell_type": "code",
   "execution_count": null,
   "metadata": {},
   "outputs": [],
   "source": [
    "out_folder = '/home/donald/Desktop/Andre_expansion/students/Donald/data/Skin_visium/lymph_spacerangerL1/binned_outputs/square_016um/iStar_data/test_on_new_slide'\n",
    "outpth_pixel_size = os.path.join(out_folder, 'pixel-size-raw.txt')\n",
    "with open(outpth_pixel_size, 'w') as f:\n",
    "    f.write(str(0.4416))"
   ]
  }
 ],
 "metadata": {
  "kernelspec": {
   "display_name": "visium",
   "language": "python",
   "name": "python3"
  },
  "language_info": {
   "codemirror_mode": {
    "name": "ipython",
    "version": 3
   },
   "file_extension": ".py",
   "mimetype": "text/x-python",
   "name": "python",
   "nbconvert_exporter": "python",
   "pygments_lexer": "ipython3",
   "version": "3.12.6"
  }
 },
 "nbformat": 4,
 "nbformat_minor": 2
}
