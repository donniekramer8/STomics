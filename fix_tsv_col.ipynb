{
 "cells": [
  {
   "cell_type": "code",
   "execution_count": 1,
   "metadata": {},
   "outputs": [],
   "source": [
    "import pandas as pd"
   ]
  },
  {
   "cell_type": "code",
   "execution_count": 11,
   "metadata": {},
   "outputs": [],
   "source": [
    "tsv_pth = '/home/donald/Desktop/Andre_expansion/data/CODA Fallopian tube/visium hd/LK01JHU510_000_analysis/count/AJGB283/outs/binned_outputs/square_016um/AJGB283_training/locs-raw.tsv'\n",
    "\n",
    "with open(tsv_pth, 'rb') as f:\n",
    "    dat = pd.read_csv(f, sep='\\t')\n",
    "\n",
    "out_tsv = dat[['Spot', 'x', 'y']]\n",
    "\n",
    "out_tsv.head()\n",
    "\n",
    "out_pth = '/home/donald/Desktop/Andre_expansion/data/CODA Fallopian tube/visium hd/LK01JHU510_000_analysis/count/AJGB283/outs/binned_outputs/square_016um/AJGB283_training/locs-raw.tsv'\n",
    "\n",
    "with open(out_pth, 'w') as f:\n",
    "    out_tsv.to_csv(out_pth,sep='\\t',index=False)"
   ]
  },
  {
   "cell_type": "code",
   "execution_count": null,
   "metadata": {},
   "outputs": [],
   "source": []
  }
 ],
 "metadata": {
  "kernelspec": {
   "display_name": "visium",
   "language": "python",
   "name": "python3"
  },
  "language_info": {
   "codemirror_mode": {
    "name": "ipython",
    "version": 3
   },
   "file_extension": ".py",
   "mimetype": "text/x-python",
   "name": "python",
   "nbconvert_exporter": "python",
   "pygments_lexer": "ipython3",
   "version": "3.12.6"
  }
 },
 "nbformat": 4,
 "nbformat_minor": 2
}
